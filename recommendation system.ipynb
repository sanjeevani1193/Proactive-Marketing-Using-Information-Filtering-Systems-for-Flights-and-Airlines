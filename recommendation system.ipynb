{
 "cells": [
  {
   "cell_type": "code",
   "execution_count": 22,
   "id": "4db0cd1e",
   "metadata": {},
   "outputs": [],
   "source": [
    "import pandas as pd\n",
    "import numpy as np"
   ]
  },
  {
   "cell_type": "code",
   "execution_count": 23,
   "metadata": {},
   "outputs": [],
   "source": [
    "flights = pd.read_csv('/Users/zayd/Downloads/F20EC CW2/AirFares_from_Dubai 3.csv')"
   ]
  },
  {
   "cell_type": "markdown",
   "metadata": {},
   "source": [
    "# Data Preprocessing"
   ]
  },
  {
   "cell_type": "code",
   "execution_count": 24,
   "metadata": {},
   "outputs": [
    {
     "data": {
      "text/html": [
       "<div>\n",
       "<style scoped>\n",
       "    .dataframe tbody tr th:only-of-type {\n",
       "        vertical-align: middle;\n",
       "    }\n",
       "\n",
       "    .dataframe tbody tr th {\n",
       "        vertical-align: top;\n",
       "    }\n",
       "\n",
       "    .dataframe thead th {\n",
       "        text-align: right;\n",
       "    }\n",
       "</style>\n",
       "<table border=\"1\" class=\"dataframe\">\n",
       "  <thead>\n",
       "    <tr style=\"text-align: right;\">\n",
       "      <th></th>\n",
       "      <th>name</th>\n",
       "      <th>continent</th>\n",
       "      <th>country</th>\n",
       "      <th>destinationName</th>\n",
       "      <th>flightNumber</th>\n",
       "      <th>airlineCode_iata</th>\n",
       "      <th>destination_iata</th>\n",
       "      <th>airlineName</th>\n",
       "      <th>aircraftTerminal</th>\n",
       "      <th>Duration</th>\n",
       "      <th>Cost</th>\n",
       "      <th>Climate</th>\n",
       "      <th>Date</th>\n",
       "      <th>Time</th>\n",
       "      <th>Average_Cost</th>\n",
       "    </tr>\n",
       "  </thead>\n",
       "  <tbody>\n",
       "    <tr>\n",
       "      <th>0</th>\n",
       "      <td>Houari Boumediene Airport</td>\n",
       "      <td>Africa</td>\n",
       "      <td>Algeria</td>\n",
       "      <td>Algiers</td>\n",
       "      <td>AH 4063</td>\n",
       "      <td>AH</td>\n",
       "      <td>ALG</td>\n",
       "      <td>Air Algerie</td>\n",
       "      <td>1</td>\n",
       "      <td>7h 35m</td>\n",
       "      <td>AED 2055</td>\n",
       "      <td>Hot</td>\n",
       "      <td>6/10/2024</td>\n",
       "      <td>3:59</td>\n",
       "      <td>low</td>\n",
       "    </tr>\n",
       "  </tbody>\n",
       "</table>\n",
       "</div>"
      ],
      "text/plain": [
       "                        name continent  country destinationName flightNumber  \\\n",
       "0  Houari Boumediene Airport    Africa  Algeria         Algiers      AH 4063   \n",
       "\n",
       "  airlineCode_iata destination_iata  airlineName  aircraftTerminal Duration  \\\n",
       "0               AH              ALG  Air Algerie                 1   7h 35m   \n",
       "\n",
       "       Cost Climate       Date  Time Average_Cost  \n",
       "0  AED 2055     Hot  6/10/2024  3:59          low  "
      ]
     },
     "execution_count": 24,
     "metadata": {},
     "output_type": "execute_result"
    }
   ],
   "source": [
    "flights.head(1)"
   ]
  },
  {
   "cell_type": "code",
   "execution_count": 25,
   "metadata": {},
   "outputs": [],
   "source": [
    "flights.rename(columns={'name': 'Airport', 'continent':'Continent', 'country': 'Country', 'destinationName':'Destination', 'airlineName': 'Airline', 'flightNumber':'Flight Number', 'aircraftTerminal':'Airport Terminal', 'Duration':'Flight Duration', 'Cost':'Flight Cost', 'Average_Cost':'Destination Expenditure'}, inplace=True)"
   ]
  },
  {
   "cell_type": "code",
   "execution_count": 26,
   "metadata": {},
   "outputs": [
    {
     "data": {
      "text/plain": [
       "array(['Hot', 'Temperate cool', 'Warm Mildly humid', 'Tropical cool',\n",
       "       'Tropical Temperate'], dtype=object)"
      ]
     },
     "execution_count": 26,
     "metadata": {},
     "output_type": "execute_result"
    }
   ],
   "source": [
    "flights['Climate'].unique()"
   ]
  },
  {
   "cell_type": "code",
   "execution_count": 27,
   "metadata": {},
   "outputs": [
    {
     "data": {
      "text/plain": [
       "Index(['Airport', 'Continent', 'Country', 'Destination', 'Flight Number',\n",
       "       'airlineCode_iata', 'destination_iata', 'Airline', 'Airport Terminal',\n",
       "       'Flight Duration', 'Flight Cost', 'Climate', 'Date', 'Time',\n",
       "       'Destination Expenditure'],\n",
       "      dtype='object')"
      ]
     },
     "execution_count": 27,
     "metadata": {},
     "output_type": "execute_result"
    }
   ],
   "source": [
    "flights.columns"
   ]
  },
  {
   "cell_type": "code",
   "execution_count": 28,
   "metadata": {},
   "outputs": [
    {
     "data": {
      "text/plain": [
       "array(['low', 'Medium', 'medium', 'high', 'High'], dtype=object)"
      ]
     },
     "execution_count": 28,
     "metadata": {},
     "output_type": "execute_result"
    }
   ],
   "source": [
    "flights['Destination Expenditure'].unique()"
   ]
  },
  {
   "cell_type": "code",
   "execution_count": 29,
   "metadata": {},
   "outputs": [],
   "source": [
    "flights['Destination Expenditure'] = flights['Destination Expenditure'].replace('low', 'Low')\n",
    "flights['Destination Expenditure'] = flights['Destination Expenditure'].replace('medium', 'Medium')\n",
    "flights['Destination Expenditure'] = flights['Destination Expenditure'].replace('high', 'High')"
   ]
  },
  {
   "cell_type": "code",
   "execution_count": 30,
   "metadata": {},
   "outputs": [
    {
     "data": {
      "text/plain": [
       "array(['Low', 'Medium', 'High'], dtype=object)"
      ]
     },
     "execution_count": 30,
     "metadata": {},
     "output_type": "execute_result"
    }
   ],
   "source": [
    "flights['Destination Expenditure'].unique()"
   ]
  },
  {
   "cell_type": "code",
   "execution_count": 31,
   "metadata": {},
   "outputs": [
    {
     "data": {
      "text/plain": [
       "Airport                    0\n",
       "Continent                  0\n",
       "Country                    0\n",
       "Destination                0\n",
       "Flight Number              0\n",
       "airlineCode_iata           0\n",
       "destination_iata           0\n",
       "Airline                    0\n",
       "Airport Terminal           0\n",
       "Flight Duration            0\n",
       "Flight Cost                0\n",
       "Climate                    0\n",
       "Date                       0\n",
       "Time                       0\n",
       "Destination Expenditure    0\n",
       "dtype: int64"
      ]
     },
     "execution_count": 31,
     "metadata": {},
     "output_type": "execute_result"
    }
   ],
   "source": [
    "flights.isna().sum()"
   ]
  },
  {
   "cell_type": "code",
   "execution_count": 32,
   "metadata": {},
   "outputs": [
    {
     "data": {
      "text/plain": [
       "Airport                    object\n",
       "Continent                  object\n",
       "Country                    object\n",
       "Destination                object\n",
       "Flight Number              object\n",
       "airlineCode_iata           object\n",
       "destination_iata           object\n",
       "Airline                    object\n",
       "Airport Terminal            int64\n",
       "Flight Duration            object\n",
       "Flight Cost                object\n",
       "Climate                    object\n",
       "Date                       object\n",
       "Time                       object\n",
       "Destination Expenditure    object\n",
       "dtype: object"
      ]
     },
     "execution_count": 32,
     "metadata": {},
     "output_type": "execute_result"
    }
   ],
   "source": [
    "flights.dtypes"
   ]
  },
  {
   "cell_type": "code",
   "execution_count": 33,
   "metadata": {},
   "outputs": [],
   "source": [
    "from sklearn.feature_extraction.text import TfidfVectorizer\n",
    "from sklearn.metrics.pairwise import cosine_similarity"
   ]
  },
  {
   "cell_type": "code",
   "execution_count": 34,
   "metadata": {},
   "outputs": [],
   "source": [
    "def flight_recommendation():\n",
    "\n",
    "    # Retrieving input for user preferences\n",
    "    user_climate_preference = int(input(\"Select your preferred climate:\\n (1) Hot \\n (2) Warm Mildly Humid \\n (3) Tropical Temperate \\n (4) Tropical Cool \\n (5) Temperate Cool\"))\n",
    "    if user_climate_preference == 1:\n",
    "        climate = \"Hot\"\n",
    "    elif user_climate_preference == 2:\n",
    "        climate = \"Warm Mildly humid\"\n",
    "    elif user_climate_preference == 3:\n",
    "        climate = \"Tropical Temperate\"\n",
    "    elif user_climate_preference == 4:\n",
    "        climate = \"Tropical cool\"\n",
    "    elif user_climate_preference == 5:\n",
    "        climate = \"Temperate cool\"\n",
    "\n",
    "    user_expenditure_preference = int(input(\"Select your preferred destination expenditure range in USD:\\n (1) 0-1000 USD \\n (2) 1000-2000 USD \\n (3) 2000+ USD\"))\n",
    "    if user_expenditure_preference == 1:\n",
    "        expenditure = \"Low\"\n",
    "    elif user_expenditure_preference == 2:\n",
    "        expenditure = \"Medium\"\n",
    "    elif user_expenditure_preference == 3:\n",
    "        expenditure = \"High\"\n",
    "    \n",
    "    num_flights = int(input(\"Enter number of flight you need (Min:1, Max:5): \"))\n",
    "\n",
    "    # Filtering flights based on user preferences\n",
    "    filtered_flights = flights[(flights['Climate'] == climate) & (flights['Destination Expenditure'] == expenditure)]\n",
    "\n",
    "    if filtered_flights.empty: \n",
    "        print(\"Sorry, no flights were found according to your preferences.\")\n",
    "    \n",
    "    else:\n",
    "\n",
    "        # Combining user preferences into a single string for vectorization\n",
    "        filtered_flights['combined_features'] = filtered_flights[['Climate', 'Destination Expenditure']].apply(lambda x: ' '.join(x.astype(str)), axis=1)\n",
    "\n",
    "        # Initializing the TF-IDF Vectorizer\n",
    "        tfidf_vectorizer = TfidfVectorizer()\n",
    "\n",
    "        # Fiting and transforming the combined user preferences on the filtered flights\n",
    "        tfidf_matrix_filtered = tfidf_vectorizer.fit_transform(filtered_flights['combined_features'])\n",
    "        user_query = f\"{climate} {expenditure}\"\n",
    "        user_pref_vector = tfidf_vectorizer.transform([user_query])\n",
    "\n",
    "        # Calculating cosine similarity\n",
    "        cosine_sim = cosine_similarity(user_pref_vector, tfidf_matrix_filtered)\n",
    "    \n",
    "        # Retrieving cosine similarity scores for all destinations and sorting them\n",
    "        sim_scores = list(enumerate(cosine_sim[0]))\n",
    "        sim_scores = sorted(sim_scores, key=lambda x: x[1], reverse=True)\n",
    "    \n",
    "        # Retrieving indices of unique recommendations\n",
    "        recommended_indexes = []\n",
    "        seen = set()\n",
    "        for i, _ in sim_scores:\n",
    "            destination = filtered_flights.iloc[i]['Destination']\n",
    "            flight_number = filtered_flights.iloc[i]['Flight Number']\n",
    "        \n",
    "            if (destination, flight_number) not in seen:\n",
    "                recommended_indexes.append(i)\n",
    "                seen.add((destination, flight_number))\n",
    "        \n",
    "            if len(recommended_indexes) >= num_flights:\n",
    "                break\n",
    "    \n",
    "        # Returning top N unique recommendations (based on num_flights provided by user)\n",
    "        recommendations = filtered_flights.iloc[recommended_indexes]\n",
    "        final_recommendations = recommendations[['Airline', 'Flight Number', 'Airport', 'Airport Terminal', 'Destination', 'Country', 'Date', 'Flight Duration', 'Flight Cost', 'Destination Expenditure']]\n",
    "    \n",
    "        if final_recommendations.shape[0]==0:\n",
    "            print(\"Sorry, no flights were found based on your preferences.\")\n",
    "\n",
    "        elif final_recommendations.shape[0] < num_flights:\n",
    "            if final_recommendations.shape[0] == 1:\n",
    "                print(\"Only the following 1 flight was found based on your preferences :-\")\n",
    "                return final_recommendations\n",
    "            else:\n",
    "                print(\"Only the following\", final_recommendations.shape[0], \"flights were found based on your preferences :-\")\n",
    "                return final_recommendations\n",
    "        else:\n",
    "            print(\"The following\", num_flights, \"flights were found based on your preferences :-\")\n",
    "            return final_recommendations"
   ]
  },
  {
   "cell_type": "code",
   "execution_count": 35,
   "metadata": {},
   "outputs": [
    {
     "name": "stdout",
     "output_type": "stream",
     "text": [
      "The following 2 flights were found based on your preferences :-\n"
     ]
    },
    {
     "name": "stderr",
     "output_type": "stream",
     "text": [
      "/var/folders/9j/td_q3lgs2xzdw7qmhsc973680000gn/T/ipykernel_10953/964082828.py:35: SettingWithCopyWarning: \n",
      "A value is trying to be set on a copy of a slice from a DataFrame.\n",
      "Try using .loc[row_indexer,col_indexer] = value instead\n",
      "\n",
      "See the caveats in the documentation: https://pandas.pydata.org/pandas-docs/stable/user_guide/indexing.html#returning-a-view-versus-a-copy\n",
      "  filtered_flights['combined_features'] = filtered_flights[['Climate', 'Destination Expenditure']].apply(lambda x: ' '.join(x.astype(str)), axis=1)\n"
     ]
    },
    {
     "data": {
      "text/html": [
       "<div>\n",
       "<style scoped>\n",
       "    .dataframe tbody tr th:only-of-type {\n",
       "        vertical-align: middle;\n",
       "    }\n",
       "\n",
       "    .dataframe tbody tr th {\n",
       "        vertical-align: top;\n",
       "    }\n",
       "\n",
       "    .dataframe thead th {\n",
       "        text-align: right;\n",
       "    }\n",
       "</style>\n",
       "<table border=\"1\" class=\"dataframe\">\n",
       "  <thead>\n",
       "    <tr style=\"text-align: right;\">\n",
       "      <th></th>\n",
       "      <th>Airline</th>\n",
       "      <th>Flight Number</th>\n",
       "      <th>Airport</th>\n",
       "      <th>Airport Terminal</th>\n",
       "      <th>Destination</th>\n",
       "      <th>Country</th>\n",
       "      <th>Date</th>\n",
       "      <th>Flight Duration</th>\n",
       "      <th>Flight Cost</th>\n",
       "      <th>Destination Expenditure</th>\n",
       "    </tr>\n",
       "  </thead>\n",
       "  <tbody>\n",
       "    <tr>\n",
       "      <th>0</th>\n",
       "      <td>Air Algerie</td>\n",
       "      <td>AH 4063</td>\n",
       "      <td>Houari Boumediene Airport</td>\n",
       "      <td>1</td>\n",
       "      <td>Algiers</td>\n",
       "      <td>Algeria</td>\n",
       "      <td>6/10/2024</td>\n",
       "      <td>7h 35m</td>\n",
       "      <td>AED 2055</td>\n",
       "      <td>Low</td>\n",
       "    </tr>\n",
       "    <tr>\n",
       "      <th>1</th>\n",
       "      <td>Emirates</td>\n",
       "      <td>EK 757</td>\n",
       "      <td>Houari Boumediene Airport</td>\n",
       "      <td>3</td>\n",
       "      <td>Algiers</td>\n",
       "      <td>Algeria</td>\n",
       "      <td>8/12/2024</td>\n",
       "      <td>7h 35m</td>\n",
       "      <td>AED 1886</td>\n",
       "      <td>Low</td>\n",
       "    </tr>\n",
       "  </tbody>\n",
       "</table>\n",
       "</div>"
      ],
      "text/plain": [
       "       Airline Flight Number                    Airport  Airport Terminal  \\\n",
       "0  Air Algerie       AH 4063  Houari Boumediene Airport                 1   \n",
       "1     Emirates        EK 757  Houari Boumediene Airport                 3   \n",
       "\n",
       "  Destination  Country       Date Flight Duration Flight Cost  \\\n",
       "0     Algiers  Algeria  6/10/2024          7h 35m    AED 2055   \n",
       "1     Algiers  Algeria  8/12/2024          7h 35m    AED 1886   \n",
       "\n",
       "  Destination Expenditure  \n",
       "0                     Low  \n",
       "1                     Low  "
      ]
     },
     "execution_count": 35,
     "metadata": {},
     "output_type": "execute_result"
    }
   ],
   "source": [
    "flight_recommendation()"
   ]
  }
 ],
 "metadata": {
  "kernelspec": {
   "display_name": "Python 3 (ipykernel)",
   "language": "python",
   "name": "python3"
  },
  "language_info": {
   "codemirror_mode": {
    "name": "ipython",
    "version": 3
   },
   "file_extension": ".py",
   "mimetype": "text/x-python",
   "name": "python",
   "nbconvert_exporter": "python",
   "pygments_lexer": "ipython3",
   "version": "3.9.7"
  }
 },
 "nbformat": 4,
 "nbformat_minor": 5
}
